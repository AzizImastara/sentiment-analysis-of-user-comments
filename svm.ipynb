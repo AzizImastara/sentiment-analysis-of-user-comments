{
 "cells": [
  {
   "cell_type": "code",
   "execution_count": 33,
   "id": "ee087225",
   "metadata": {},
   "outputs": [],
   "source": [
    "import pandas as pd\n",
    "import numpy as np\n",
    "from sklearn.model_selection import KFold\n",
    "from sklearn.feature_extraction.text import TfidfVectorizer\n",
    "from sklearn.svm import SVC\n",
    "from sklearn.metrics import classification_report, accuracy_score\n",
    "from sklearn.preprocessing import LabelEncoder"
   ]
  },
  {
   "cell_type": "code",
   "execution_count": 34,
   "id": "ceecda19",
   "metadata": {},
   "outputs": [],
   "source": [
    "# Load dataset\n",
    "df = pd.read_csv(\"tokopedia_score_content_cleaned.csv\", sep=\",\")\n",
    "columns = [\"score\", \"content\"]\n",
    "df.columns = columns"
   ]
  },
  {
   "cell_type": "code",
   "execution_count": 35,
   "id": "a7c0ad27",
   "metadata": {},
   "outputs": [
    {
     "data": {
      "text/html": [
       "<div>\n",
       "<style scoped>\n",
       "    .dataframe tbody tr th:only-of-type {\n",
       "        vertical-align: middle;\n",
       "    }\n",
       "\n",
       "    .dataframe tbody tr th {\n",
       "        vertical-align: top;\n",
       "    }\n",
       "\n",
       "    .dataframe thead th {\n",
       "        text-align: right;\n",
       "    }\n",
       "</style>\n",
       "<table border=\"1\" class=\"dataframe\">\n",
       "  <thead>\n",
       "    <tr style=\"text-align: right;\">\n",
       "      <th></th>\n",
       "      <th>score</th>\n",
       "      <th>content</th>\n",
       "    </tr>\n",
       "  </thead>\n",
       "  <tbody>\n",
       "    <tr>\n",
       "      <th>0</th>\n",
       "      <td>2</td>\n",
       "      <td>masih perlu belajar untuk hasil maksimal</td>\n",
       "    </tr>\n",
       "    <tr>\n",
       "      <th>1</th>\n",
       "      <td>5</td>\n",
       "      <td>tokopedia kenapa sekarang pencairan dana selle...</td>\n",
       "    </tr>\n",
       "    <tr>\n",
       "      <th>2</th>\n",
       "      <td>5</td>\n",
       "      <td>ngga expect ternyata tokopedia sebagus itu pen...</td>\n",
       "    </tr>\n",
       "    <tr>\n",
       "      <th>3</th>\n",
       "      <td>3</td>\n",
       "      <td>kocak cs lu status pesanan tiba di tempat tuju...</td>\n",
       "    </tr>\n",
       "    <tr>\n",
       "      <th>4</th>\n",
       "      <td>1</td>\n",
       "      <td>agh biaya admin beli pulsa nya mahal tidak sem...</td>\n",
       "    </tr>\n",
       "  </tbody>\n",
       "</table>\n",
       "</div>"
      ],
      "text/plain": [
       "   score                                            content\n",
       "0      2           masih perlu belajar untuk hasil maksimal\n",
       "1      5  tokopedia kenapa sekarang pencairan dana selle...\n",
       "2      5  ngga expect ternyata tokopedia sebagus itu pen...\n",
       "3      3  kocak cs lu status pesanan tiba di tempat tuju...\n",
       "4      1  agh biaya admin beli pulsa nya mahal tidak sem..."
      ]
     },
     "execution_count": 35,
     "metadata": {},
     "output_type": "execute_result"
    }
   ],
   "source": [
    "df.head()"
   ]
  },
  {
   "cell_type": "code",
   "execution_count": 47,
   "id": "ce678889",
   "metadata": {},
   "outputs": [
    {
     "data": {
      "text/plain": [
       "5000"
      ]
     },
     "execution_count": 47,
     "metadata": {},
     "output_type": "execute_result"
    }
   ],
   "source": [
    "len(df)"
   ]
  },
  {
   "cell_type": "code",
   "execution_count": 36,
   "id": "e7832c8b",
   "metadata": {},
   "outputs": [],
   "source": [
    "# Pastikan kolom content tidak kosong\n",
    "df[\"content\"] = df[\"content\"].fillna(\"\").astype(str)"
   ]
  },
  {
   "cell_type": "code",
   "execution_count": 37,
   "id": "0bde67e6",
   "metadata": {},
   "outputs": [],
   "source": [
    "# Label sentimen\n",
    "def label_sentiment(score):\n",
    "    if score >= 4:\n",
    "        return 'positif'\n",
    "    elif score == 3:\n",
    "        return 'netral'\n",
    "    else:\n",
    "        return 'negatif'\n",
    "\n",
    "df['label'] = df['score'].apply(label_sentiment)"
   ]
  },
  {
   "cell_type": "code",
   "execution_count": 38,
   "id": "86286c92",
   "metadata": {},
   "outputs": [],
   "source": [
    "# Fitur dan label\n",
    "X = df['content'].values\n",
    "y = df['label'].values"
   ]
  },
  {
   "cell_type": "code",
   "execution_count": 39,
   "id": "9b5a373e",
   "metadata": {},
   "outputs": [],
   "source": [
    "# Encode label ke angka\n",
    "label_encoder = LabelEncoder()\n",
    "y_encoded = label_encoder.fit_transform(y)"
   ]
  },
  {
   "cell_type": "code",
   "execution_count": 40,
   "id": "522ef9b6",
   "metadata": {},
   "outputs": [],
   "source": [
    "# TF-IDF vektorisasi\n",
    "vectorizer = TfidfVectorizer(max_features=5000)\n",
    "X_tfidf = vectorizer.fit_transform(X)"
   ]
  },
  {
   "cell_type": "code",
   "execution_count": 41,
   "id": "811374f5",
   "metadata": {},
   "outputs": [],
   "source": [
    "# K-Fold Cross Validation\n",
    "kf = KFold(n_splits=5, shuffle=True, random_state=42)\n",
    "accuracies = []\n",
    "f1_scores = []"
   ]
  },
  {
   "cell_type": "code",
   "execution_count": 42,
   "id": "75451d99",
   "metadata": {},
   "outputs": [
    {
     "name": "stdout",
     "output_type": "stream",
     "text": [
      "\n",
      "Hasil evaluasi Fold-1\n",
      "              precision    recall  f1-score   support\n",
      "\n",
      "     negatif       0.79      0.90      0.84       424\n",
      "      netral       0.00      0.00      0.00        56\n",
      "     positif       0.88      0.88      0.88       520\n",
      "\n",
      "    accuracy                           0.84      1000\n",
      "   macro avg       0.56      0.59      0.57      1000\n",
      "weighted avg       0.79      0.84      0.81      1000\n",
      "\n",
      "\n",
      "Hasil evaluasi Fold-2\n",
      "              precision    recall  f1-score   support\n",
      "\n",
      "     negatif       0.77      0.92      0.84       409\n",
      "      netral       0.00      0.00      0.00        57\n",
      "     positif       0.90      0.87      0.88       534\n",
      "\n",
      "    accuracy                           0.84      1000\n",
      "   macro avg       0.56      0.59      0.57      1000\n",
      "weighted avg       0.80      0.84      0.81      1000\n",
      "\n",
      "\n",
      "Hasil evaluasi Fold-3\n",
      "              precision    recall  f1-score   support\n",
      "\n",
      "     negatif       0.79      0.90      0.84       429\n",
      "      netral       0.00      0.00      0.00        51\n",
      "     positif       0.88      0.86      0.87       520\n",
      "\n",
      "    accuracy                           0.83      1000\n",
      "   macro avg       0.55      0.59      0.57      1000\n",
      "weighted avg       0.79      0.83      0.81      1000\n",
      "\n",
      "\n",
      "Hasil evaluasi Fold-4\n",
      "              precision    recall  f1-score   support\n",
      "\n",
      "     negatif       0.80      0.92      0.86       449\n",
      "      netral       0.00      0.00      0.00        51\n",
      "     positif       0.89      0.86      0.87       500\n",
      "\n",
      "    accuracy                           0.84      1000\n",
      "   macro avg       0.56      0.59      0.58      1000\n",
      "weighted avg       0.80      0.84      0.82      1000\n",
      "\n",
      "\n",
      "Hasil evaluasi Fold-5\n",
      "              precision    recall  f1-score   support\n",
      "\n",
      "     negatif       0.79      0.91      0.85       413\n",
      "      netral       0.00      0.00      0.00        61\n",
      "     positif       0.89      0.90      0.89       526\n",
      "\n",
      "    accuracy                           0.84      1000\n",
      "   macro avg       0.56      0.60      0.58      1000\n",
      "weighted avg       0.80      0.84      0.82      1000\n",
      "\n"
     ]
    }
   ],
   "source": [
    "for fold, (train_index, test_index) in enumerate(kf.split(X_tfidf)):\n",
    "    X_train, X_test = X_tfidf[train_index], X_tfidf[test_index]\n",
    "    y_train, y_test = y_encoded[train_index], y_encoded[test_index]\n",
    "\n",
    "    model = SVC(kernel=\"linear\", random_state=42)\n",
    "    model.fit(X_train, y_train)\n",
    "\n",
    "    y_pred = model.predict(X_test)\n",
    "\n",
    "    accuracy = accuracy_score(y_test, y_pred)\n",
    "    accuracies.append(accuracy)\n",
    "\n",
    "    report = classification_report(\n",
    "        y_test, y_pred,\n",
    "        target_names=label_encoder.classes_,\n",
    "        output_dict=True,\n",
    "        zero_division=0\n",
    "    )\n",
    "    \n",
    "    f1_scores.append({label: report[label]['f1-score'] for label in label_encoder.classes_})\n",
    "\n",
    "    # Print per fold\n",
    "    print(f\"\\nHasil evaluasi Fold-{fold + 1}\")\n",
    "    print(classification_report(\n",
    "        y_test, y_pred,\n",
    "        target_names=label_encoder.classes_,\n",
    "        zero_division=0\n",
    "    ))\n"
   ]
  },
  {
   "cell_type": "code",
   "execution_count": 43,
   "id": "5e7d450c",
   "metadata": {},
   "outputs": [
    {
     "name": "stdout",
     "output_type": "stream",
     "text": [
      "\n",
      "Akurasi tiap Fold:\n",
      "Fold 1: 0.84\n",
      "Fold 2: 0.84\n",
      "Fold 3: 0.83\n",
      "Fold 4: 0.84\n",
      "Fold 5: 0.84\n",
      "\n",
      "Rata-rata akurasi K-Fold: 0.84\n"
     ]
    }
   ],
   "source": [
    "# Rata-rata akurasi dan f1\n",
    "print(\"\\nAkurasi tiap Fold:\")\n",
    "for i, acc in enumerate(accuracies):\n",
    "    print(f\"Fold {i + 1}: {acc:.2f}\")\n",
    "print(f\"\\nRata-rata akurasi K-Fold: {np.mean(accuracies):.2f}\")\n"
   ]
  },
  {
   "cell_type": "code",
   "execution_count": 44,
   "id": "ab9fdb68",
   "metadata": {},
   "outputs": [
    {
     "name": "stdout",
     "output_type": "stream",
     "text": [
      "\n",
      "Rata-rata F1-score per kelas:\n",
      "negatif: 0.84\n",
      "netral: 0.00\n",
      "positif: 0.88\n"
     ]
    }
   ],
   "source": [
    "# Rata-rata F1-score per kelas\n",
    "print(\"\\nRata-rata F1-score per kelas:\")\n",
    "for label in label_encoder.classes_:\n",
    "    avg_f1 = np.mean([f[label] for f in f1_scores])\n",
    "    print(f\"{label}: {avg_f1:.2f}\")"
   ]
  }
 ],
 "metadata": {
  "kernelspec": {
   "display_name": "Python 3",
   "language": "python",
   "name": "python3"
  },
  "language_info": {
   "codemirror_mode": {
    "name": "ipython",
    "version": 3
   },
   "file_extension": ".py",
   "mimetype": "text/x-python",
   "name": "python",
   "nbconvert_exporter": "python",
   "pygments_lexer": "ipython3",
   "version": "3.12.7"
  }
 },
 "nbformat": 4,
 "nbformat_minor": 5
}
